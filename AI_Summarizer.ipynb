{
  "nbformat": 4,
  "nbformat_minor": 0,
  "metadata": {
    "colab": {
      "provenance": [],
      "authorship_tag": "ABX9TyNCOnXJNeC2QtcvNCnLkiqu"
    },
    "kernelspec": {
      "name": "python3",
      "display_name": "Python 3"
    },
    "language_info": {
      "name": "python"
    }
  },
  "cells": [
    {
      "cell_type": "code",
      "execution_count": null,
      "metadata": {
        "id": "AJQStUF8mQFu"
      },
      "outputs": [],
      "source": [
        "! pip install openai pydub fpdf PyPDF2 chromadb langchain tiktoken unstructured pypdf pdfminer youtube-transcript-api"
      ]
    },
    {
      "cell_type": "code",
      "source": [
        "from google.colab import userdata\n",
        "import requests\n",
        "import base64\n",
        "from openai import OpenAI\n",
        "import io\n",
        "from pydub import AudioSegment\n",
        "from pydub.playback import play\n",
        "from IPython.display import Audio, display\n",
        "import PyPDF2\n",
        "from langchain.document_loaders import UnstructuredPDFLoader, OnlinePDFLoader, WebBaseLoader, YoutubeLoader, DirectoryLoader, PyPDFLoader\n",
        "from langchain.text_splitter import RecursiveCharacterTextSplitter\n",
        "import tiktoken\n",
        "from IPython.display import Markdown\n",
        "from langchain.vectorstores import Chroma\n",
        "from langchain.prompts import PromptTemplate\n",
        "from langchain.chains import RetrievalQA, ConversationalRetrievalChain\n",
        "from langchain.indexes import VectorstoreIndexCreator\n",
        "from langchain.embeddings import OpenAIEmbeddings\n",
        "import os\n"
      ],
      "metadata": {
        "id": "wn1SIEyJmahP"
      },
      "execution_count": null,
      "outputs": []
    },
    {
      "cell_type": "code",
      "source": [
        "os.environ['OPENAI_API_KEY'] = \"<INSERT OPENAI_API_KEY_HERE>\"\n",
        "client = OpenAI(api_key=\"<INSERT OPENAI_API_KEY_HERE>\")\n",
        "embeddings = OpenAIEmbeddings(openai_api_key=\"<INSERT OPENAI_API_KEY_HERE>\")"
      ],
      "metadata": {
        "id": "X5H-V97Xmjpm"
      },
      "execution_count": null,
      "outputs": []
    },
    {
      "cell_type": "markdown",
      "source": [
        "**PDF READER**"
      ],
      "metadata": {
        "id": "wrhPFrrCm5fc"
      }
    },
    {
      "cell_type": "code",
      "source": [
        "# Add a pdf to the colab environment, and put the file name below\n",
        "paper = \"ENTER PDF FILE PATH HERE\"\n",
        "\n",
        "loader = PyPDFLoader(paper)\n",
        "documents = loader.load()\n",
        "\n",
        "index = VectorstoreIndexCreator().from_loaders([loader])\n",
        "\n",
        "index.query(\"ASK QUESTION HERE\")"
      ],
      "metadata": {
        "id": "QBWs-7ylmkTy"
      },
      "execution_count": null,
      "outputs": []
    },
    {
      "cell_type": "markdown",
      "source": [
        "**WEBSITE READER**"
      ],
      "metadata": {
        "id": "m6JFmJQMnVXY"
      }
    },
    {
      "cell_type": "code",
      "source": [
        "url = \"ENTER WEBSITE URL HERE\"\n",
        "\n",
        "loader = WebBaseLoader(url)\n",
        "documents = loader.load()\n",
        "\n",
        "index = VectorstoreIndexCreator().from_loaders([loader])\n",
        "\n",
        "index.query(\"ASK QUESTION HERE\")"
      ],
      "metadata": {
        "id": "ds43gT72nKY3"
      },
      "execution_count": null,
      "outputs": []
    },
    {
      "cell_type": "markdown",
      "source": [
        "**YOUTUBE READER**"
      ],
      "metadata": {
        "id": "xSjHduGgnlKT"
      }
    },
    {
      "cell_type": "code",
      "source": [
        "youtube_url = \"https://www.youtube.com/watch?v=bDbE5vl7yd8\"\n",
        "\n",
        "loader = YoutubeLoader(\"bDbE5vl7yd8\")\n",
        "documents = loader.load()\n",
        "\n",
        "index = VectorstoreIndexCreator().from_loaders([loader])\n",
        "\n",
        "index.query(\"ASK QUESTION HERE\")"
      ],
      "metadata": {
        "id": "Y4op6l5TnZ3e"
      },
      "execution_count": null,
      "outputs": []
    }
  ]
}